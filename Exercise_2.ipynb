{
  "nbformat": 4,
  "nbformat_minor": 0,
  "metadata": {
    "colab": {
      "provenance": [],
      "collapsed_sections": []
    },
    "kernelspec": {
      "name": "python3",
      "display_name": "Python 3"
    },
    "language_info": {
      "name": "python"
    }
  },
  "cells": [
    {
      "cell_type": "markdown",
      "source": [
        "**Question-1:**  Write a Python program to find the list in a list of lists whose average of elements is highest.\n",
        "\n",
        "Sample lists: [1,2,3], [4,5,6], [10,11,12], [7,8,9]\n",
        "\n",
        "Expected Output: [10, 11, 12]"
      ],
      "metadata": {
        "id": "ngGzVIws8eYU"
      }
    },
    {
      "cell_type": "code",
      "execution_count": null,
      "metadata": {
        "colab": {
          "base_uri": "https://localhost:8080/"
        },
        "id": "fGaJie8zdbmf",
        "outputId": "7107892b-8f76-4bd4-90c4-4b1e476a8591"
      },
      "outputs": [
        {
          "output_type": "stream",
          "name": "stdout",
          "text": [
            "[10, 11, 12]\n"
          ]
        }
      ],
      "source": [
        "list_of_list = [[1,2,3], [4,5,6], [10,11,12], [7,8,9]]\n",
        "\n",
        "list = []\n",
        "sum = 0\n",
        "average = []\n",
        "index = 0\n",
        "maximum_avg = 0\n",
        "i = 0\n",
        "\n",
        "for list in list_of_list:\n",
        "  for number in list:\n",
        "    sum = sum + number\n",
        "  average.append(sum / len(list))\n",
        "  sum = 0\n",
        "\n",
        "for avg in average:\n",
        "  if avg > maximum_avg: \n",
        "   maximum_avg = avg\n",
        "   index = i\n",
        "  i = i + 1\n",
        "\n",
        "print(list_of_list[index])\n"
      ]
    },
    {
      "cell_type": "markdown",
      "source": [
        "**Question-2:**  You are required to write a program to sort the (name, age, height) tuples by ascending order where name is string, age and height are numbers. The tuples are input by console. The sort criteria is: 1: Sort based on name; 2: Then sort based on age; 3: Then sort by score. The priority is that name > age > score.\n",
        "If the following tuples are given as input to the program:\n",
        "Tom,19,80\n",
        "John,20,90\n",
        "Jony,17,91\n",
        "Jony,17,93\n",
        "Json,21,85\n",
        "Then, the output of the program should be:\n",
        "[('John', '20', '90'), ('Jony', '17', '91'), ('Jony', '17', '93'), ('Json', '21', '85'), ('Tom', '19', '80')]"
      ],
      "metadata": {
        "id": "9uMbUS1IuSLc"
      }
    },
    {
      "cell_type": "code",
      "source": [
        "from operator import itemgetter\n",
        "list1 = []\n",
        "while True:\n",
        "    input_list = input()\n",
        "    if not input_list:\n",
        "        break\n",
        "    list1.append(tuple(input_list.split(\",\")))\n",
        " \n",
        "print(sorted(list1, key=itemgetter(0,1,2)))"
      ],
      "metadata": {
        "colab": {
          "base_uri": "https://localhost:8080/"
        },
        "id": "ddQDBNPcuh1V",
        "outputId": "886ebbb6-8454-426a-b549-fedc8f9fff50"
      },
      "execution_count": null,
      "outputs": [
        {
          "output_type": "stream",
          "name": "stdout",
          "text": [
            "Tom,19,80\n",
            "John,20,90\n",
            "Jony,17,91\n",
            "Json,21,85\n",
            "\n",
            "[('John', '20', '90'), ('Jony', '17', '91'), ('Json', '21', '85'), ('Tom', '19', '80')]\n"
          ]
        }
      ]
    },
    {
      "cell_type": "markdown",
      "source": [
        "**Question-3:** Calculate Word Frequencies. Take a set of sentences in a string as an input. Count each unique occurrence of a word and calculate frequency of occurrence and store in a dictionary. Produce a frequency table.\n",
        "Hint: Iterate through the string, placing the words into a dict. The first time a word is seen, the frequency is 1. Each time the word is seen again, increment the frequency."
      ],
      "metadata": {
        "id": "k6EC8XaGzZM9"
      }
    },
    {
      "cell_type": "code",
      "source": [
        "def count_frequencies(elements):\n",
        "    # check if each word has '.' at its last. If so then ignore '.'\n",
        "    if elements[-1] == '.':\n",
        "        elements = elements[0:len(elements) - 1]\n",
        " \n",
        "    if elements in dictionary:\n",
        "        dictionary[elements] += 1\n",
        "    else:\n",
        "        dictionary.update({elements: 1})\n",
        " \n",
        "input_string = input()\n",
        " \n",
        "# Declare a dictionary\n",
        "dictionary = {}\n",
        "\n",
        "lst = input_string.split()\n",
        " \n",
        "# take each word from lst and pass it to the method count.\n",
        "for elements in lst:\n",
        "    count_frequencies(elements)\n",
        "\n",
        "for allKeys in dictionary:\n",
        "    print (\"Frequency of \", allKeys, end = \" \")\n",
        "    print (\":\", end = \" \")\n",
        "    print (dictionary[allKeys], end = \" \")\n",
        "    print()"
      ],
      "metadata": {
        "colab": {
          "base_uri": "https://localhost:8080/"
        },
        "id": "Jcw04ZYDzanW",
        "outputId": "4f42a250-2926-4cef-9f65-a8f9c982a4a1"
      },
      "execution_count": null,
      "outputs": [
        {
          "output_type": "stream",
          "name": "stdout",
          "text": [
            "mango table books table library\n",
            "Frequency of  mango : 1 \n",
            "Frequency of  table : 2 \n",
            "Frequency of  books : 1 \n",
            "Frequency of  library : 1 \n"
          ]
        }
      ]
    },
    {
      "cell_type": "markdown",
      "source": [
        "**Question-4:** Result Calculation. Create a dictionary and a list like following.\n",
        "Student = { 'UE183001': 'Avish', 'UE183002': 'Bhavya', 'UE183003': 'Tanya' } Add atleast 10 students\n",
        "Marks = [('UE183001', 'CS', 94 ), ('UE183002', 'CS', 64 ), ('UE183001', 'RV', 94), ('UE183002', 'CS', 74),\n",
        "  ('UE183003', 'CS', 64)] Add some more values\n",
        "Find total marks of each students and display full name of student with total marks secured."
      ],
      "metadata": {
        "id": "CovgbYLx1QnF"
      }
    },
    {
      "cell_type": "code",
      "source": [
        "Student = {}\n",
        "\n",
        "number_of_students = int(input(\"Enter number of students: \"))\n",
        "\n",
        "while len(Student) < number_of_students:\n",
        "  id = input()\n",
        "  name = input()\n",
        "\n",
        "  if id not in Student:\n",
        "    Student[id] = name\n",
        "\n",
        "#print(Student)\n",
        "\n",
        "number_of_tuples = int(input(\"Enter number of student records: \"))\n",
        "\n",
        "Marks = []\n",
        "\n",
        "for i in range(number_of_tuples):\n",
        "    student_record = tuple(input().split())\n",
        "    Marks.append(student_record)\n",
        "\n",
        "#print(Marks)\n",
        "\n",
        "Students_Scores_Total = {}\n",
        "\n",
        "def scores_calculation():\n",
        "  for student in Marks:\n",
        "    student_id = student[0]\n",
        "    student_marks = int(student[2])\n",
        "    if student_id in Students_Scores_Total:\n",
        "      Students_Scores_Total[student_id] = Students_Scores_Total[student_id] + student_marks\n",
        "    else:\n",
        "      Students_Scores_Total[student_id] = student_marks\n",
        "  \n",
        "  #print(Students_Scores_Total)\n",
        "\n",
        "  for i in Students_Scores_Total:\n",
        "    student_name = Student[i]\n",
        "    marks_sum = Students_Scores_Total[i]\n",
        "    print(student_name , marks_sum)\n",
        "\n",
        "scores_calculation()\n"
      ],
      "metadata": {
        "id": "gEXhrdRJ1S3N"
      },
      "execution_count": null,
      "outputs": []
    }
  ]
}